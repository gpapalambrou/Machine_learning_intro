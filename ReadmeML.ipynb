{
 "cells": [
  {
   "cell_type": "markdown",
   "id": "7781b795-96f9-454d-a755-f75b1b8c1317",
   "metadata": {},
   "source": [
    "ΕΜΠ-ΣΝΜΜ\n",
    "\n",
    "<h2>Εισαγωγή στη Μηχανική  Μάθηση </h2>\n",
    "\n",
    "Διδάσκων: **Γεώργιος Παπαλάμπρου**, Αναπληρωτής Καθηγητής, e-mail: george.papalambrou@lme.ntua.gr"
   ]
  },
  {
   "cell_type": "markdown",
   "id": "155247f6-b824-4e00-ab0c-ca44da86d149",
   "metadata": {},
   "source": [
    "Βασικός στόχος του μαθήματος για το 2025 είναι η εξοικίωση με τη  **Μηχανική Μάθηση**.\n",
    "\n",
    "\n",
    "Προαπαιτούμενο είναι η γνώση της γλώσσας Python.\n",
    "\n",
    "Στο μάθημα ακολουθούνται σύγχρονες πρακτικές στην παρουσίαση του υλικού: \n",
    "\n",
    "α) Χρήση της πλατφόρμας **Jupyter Notebooks**, για το υλικό των παρουσιάσεων (σε μορφή αρχείων ipynb), του κώδικα σε Python \n",
    "αλλά και την εκτέλεση του ! \n",
    "Εναλλακτικά  ο κώδικας σε Python μπορεί να εκτελεστεί με χρήση του **Visual Code Studio**.\n",
    "\n",
    "β) Διάθεση όλου του υλικού στην ανοικτή πλατφόρμα **GitHub**: αρχεία Jupyter, Python, κα.\n",
    "\n",
    "Σύνδεσμοι με περισσότερες πληροφορίες και σχετική Βιβλιογραφία υπάρχουν [εδώ](Bibliography.md). Για εγκαταστάσεις Jupyter, Python, Visual Code Studio δείτε [εδώ](installation.md).\n",
    "\n",
    "Το κάθε μάθημα διαθέτει ένα ή περισσότερα αρχεία Jupyter, πχ `pythonL1-1.ipynb`και Python, πχ `python_L1.py`. Θα κατεβάσετε τα αρχεία αυτά απο το GitHub και θα τα ανοίξετε τοπικά στον ΗΥ σας μέσω ενός browser, αφού πρώτα ανοίξετε ένα τερματικό `PowerShell` (σε Windows) και κατόπιν δώσετε εκεί την εντολή `jupyter notebook`ή αλλιώς θα τα τρέξετε  απευθείας σε Visual Code Studio. Με την επιλογή `Code` (Πράσινο κουμπί) μπορείτε επιλέξετε `Download ZIP` και να κατεβάσετε όλα τα αρχεία σε μορφή zip. \n",
    "\n",
    "\n",
    "\n",
    "Προτείνεται για μία  εισαγωγή στη Μηχανική Μάθηση να μελετήσετε από την Βιβλιογραφία - Μηχανική Μάθηση τo [1].\n",
    "\n",
    "\n",
    "\n",
    "Προτείνεται για την  εισαγωγή στην γλώσσα και τον προγραμματισμό με Python να μελετήσετε από την Βιβλιογραφία - Python τo [1].\n"
   ]
  },
  {
   "cell_type": "markdown",
   "id": "a5347a58-c413-4b85-961e-40210adc5fd7",
   "metadata": {},
   "source": [
    "Για το 2025 θα προηγηθεί ανασκόπηση στην Python.\n",
    "\n",
    "\n",
    "Η ύλη των μαθημάτων στη Μηχανική Μάθηση παρουσιάζεται παρακάτω. Βασική πηγή είναι από Βιβλιογραφία - Μηχανική Μάθηση τo [1].\n"
   ]
  },
  {
   "cell_type": "markdown",
   "id": "03dd99fb-3514-4a85-aca6-630656632750",
   "metadata": {},
   "source": [
    "## Εισαγωγή στην βιβλ. NumPy"
   ]
  },
  {
   "cell_type": "markdown",
   "id": "3d42ce62-cc8d-4d13-aa0d-770852223d06",
   "metadata": {},
   "source": [
    "## Χειρισμός δεδομένων με την βιβλ. Pandas"
   ]
  },
  {
   "cell_type": "markdown",
   "id": "ff1de374-ef52-4024-9cdb-027e201f0c99",
   "metadata": {},
   "source": [
    "## Naive Bayes Classification"
   ]
  },
  {
   "cell_type": "markdown",
   "id": "da1df6e6-e420-48c9-8811-78815906d31a",
   "metadata": {},
   "source": [
    "## Support Vector Machines"
   ]
  },
  {
   "cell_type": "markdown",
   "id": "5c0187ce-805e-408a-86b4-3c6f690047ec",
   "metadata": {},
   "source": [
    "## Decision Trees και Random Forests"
   ]
  },
  {
   "cell_type": "markdown",
   "id": "8458d19a-380c-4f65-8ccb-0f5b9ef75a41",
   "metadata": {},
   "source": [
    "## Principal Component Analysis"
   ]
  },
  {
   "cell_type": "code",
   "execution_count": null,
   "id": "2cc327e2-cc01-4dc2-b9b2-2798f7e6f637",
   "metadata": {},
   "outputs": [],
   "source": []
  }
 ],
 "metadata": {
  "kernelspec": {
   "display_name": "Python 3 (ipykernel)",
   "language": "python",
   "name": "python3"
  },
  "language_info": {
   "codemirror_mode": {
    "name": "ipython",
    "version": 3
   },
   "file_extension": ".py",
   "mimetype": "text/x-python",
   "name": "python",
   "nbconvert_exporter": "python",
   "pygments_lexer": "ipython3",
   "version": "3.12.9"
  }
 },
 "nbformat": 4,
 "nbformat_minor": 5
}
