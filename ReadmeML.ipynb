{
 "cells": [
  {
   "cell_type": "markdown",
   "id": "7781b795-96f9-454d-a755-f75b1b8c1317",
   "metadata": {},
   "source": [
    "ΕΜΠ-ΣΝΜΜ\n",
    "\n",
    "<h2>Εισαγωγή στη Μηχανική  Μάθηση </h2>\n",
    "\n",
    "Διδάσκων: **Γεώργιος Παπαλάμπρου**, Αναπληρωτής Καθηγητής, e-mail: george.papalambrou@lme.ntua.gr"
   ]
  },
  {
   "cell_type": "markdown",
   "id": "155247f6-b824-4e00-ab0c-ca44da86d149",
   "metadata": {},
   "source": [
    "Βασικός στόχος του μαθήματος για το 2025 είναι η εξοικίωση με τη  **Μηχανική Μάθηση**.\n",
    "\n",
    "Η ύλη έχει χωριστεί σε 5 ενότητες-μαθήματα, με κύριο στόχο την άμεση επαφή των φοιτητών με τις βασικές έννοιες.\n",
    "\n",
    "Προαπαιτούμενο είναι η γνώση της γλώσσας Python.\n",
    "\n",
    "Στο μάθημα ακολουθούνται σύγχρονες πρακτικές στην παρουσίαση του υλικού: \n",
    "\n",
    "α) Χρήση της πλατφόρμας **Jupyter Notebooks**, για το υλικό των παρουσιάσεων (σε μορφή αρχείων ipynb), του κώδικα σε Python \n",
    "αλλά και την εκτέλεση του ! \n",
    "Εναλλακτικά  ο κώδικας σε Python μπορεί να εκτελεστεί με χρήση του **Visual Code Studio**.\n",
    "\n",
    "β) Διάθεση όλου του υλικού στην ανοικτή πλατφόρμα **GitHub**: αρχεία Jupyter, Python, κα.\n",
    "\n",
    "Σύνδεσμοι με περισσότερες πληροφορίες και σχετική Βιβλιογραφία υπάρχουν [εδώ](Bibliography.md). Για εγκαταστάσεις Jupyter, Python, Visual Code Studio δείτε [εδώ](installation.md).\n",
    "\n",
    "Το κάθε μάθημα διαθέτει ένα ή περισσότερα αρχεία Jupyter, πχ `pythonL1-1.ipynb`και Python, πχ `python_L1.py`. Θα κατεβάσετε τα αρχεία αυτά απο το GitHub και θα τα ανοίξετε τοπικά στον ΗΥ σας μέσω ενός browser, αφού πρώτα ανοίξετε ένα τερματικό `PowerShell` (σε Windows) και κατόπιν δώσετε εκεί την εντολή `jupyter notebook`ή αλλιώς θα τα τρέξετε  απευθείας σε Visual Code Studio. Με την επιλογή `Code` (Πράσινο κουμπί) μπορείτε επιλέξετε `Download ZIP` και να κατεβάσετε όλα τα αρχεία σε μορφή zip. \n",
    "\n",
    "\n",
    "\n",
    "Προτείνεται για μία  εισαγωγή στη Μηχανική Μάθηση να μελετήσετε από την Βιβλιογραφία - Μηχανική Μάθηση τo [1].\n",
    "\n",
    "\n",
    "\n",
    "Προτείνεται για την  εισαγωγή στην γλώσσα και τον προγραμματισμό με Python να μελετήσετε από την Βιβλιογραφία - Python τo [1].\n"
   ]
  },
  {
   "cell_type": "code",
   "execution_count": null,
   "id": "135cbcc8-f808-4b7e-8572-67269a1763b6",
   "metadata": {},
   "outputs": [],
   "source": []
  }
 ],
 "metadata": {
  "kernelspec": {
   "display_name": "Python 3 (ipykernel)",
   "language": "python",
   "name": "python3"
  },
  "language_info": {
   "codemirror_mode": {
    "name": "ipython",
    "version": 3
   },
   "file_extension": ".py",
   "mimetype": "text/x-python",
   "name": "python",
   "nbconvert_exporter": "python",
   "pygments_lexer": "ipython3",
   "version": "3.12.9"
  }
 },
 "nbformat": 4,
 "nbformat_minor": 5
}
