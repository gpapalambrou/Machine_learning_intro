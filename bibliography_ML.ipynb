{
 "cells": [
  {
   "cell_type": "markdown",
   "id": "b7253c9a-3c9e-4dae-9ec4-a553190224eb",
   "metadata": {},
   "source": [
    "# Βιβλιογραφία Μηχανικής Μάθησης\n",
    "\n",
    "\n",
    "\n",
    "### Μηχανική Μάθηση\n",
    "1. J. VanderPlas, Python Data Science Handbook - Essential Tools for Working with Data, [GitHub - jakevdp/PythonDataScienceHandbook: Jupyter Notebooks](https://github.com/jakevdp/PythonDataScienceHandbook)\n",
    "1. J. VanderPlas, PyData 101, PyData Seattle 2017, https://speakerdeck.com/jakevdp/pydata-101?slide=86\n",
    "1. J. VanderPlas, Reproducible Data Analysis in Jupyter, Part 1/10: Loading and Visualizing Data, YouTube Videos\n",
    "1. J. Howard, S. Gugger, Deep Learning for Coders with fastai and PyTorch, , 1st edition, https://github.com/fastai/fastbook\n",
    "1. E. Stevens, L. Antiga, T. Viehmann, Deep Learning with PyTorch, Manning, 2020\n",
    "1. F. Chollet, Deep Learning with Python, Manning, 2021\n",
    "1. S. Russell, P. Norvig, Artificial Intelligence: A Modern Approach, Fourth edition, 2020, GitHub - aimacode/aima-python: Python from Russell And Norvig's \"Artificial Intelligence - A Modern Approach\"\n",
    "1. C. Bishop, Pattern Recognition and Machine Learning, Springer, 2006, GitHub - gerdm/prml: Repository of notes, code and notebooks in Python for the book Pattern Recognition and Machine Learning by Christopher Bishop\n",
    "1. C. Bishop, Deep Learning - Foundations and Concepts (on line), Springer, 2024\n",
    "1. T. Mitchell, Machine Learning, McGraw Hill, 1997, http://www.cs.cmu.edu/~tom/mlbook.html\n",
    "\n",
    "### Python\n",
    "1. E.  Matthes, Python Crash Course, 3rd ed., No starch press, 2023, [GitHub - ehmatthes/pcc_3e: Online resources for Python Crash Course, 3rd edition](https://github.com/ehmatthes/pcc_3e)\n",
    "1. J. VanderPlas, A Whirlwind Tour of Python, https://jakevdp.github.io/WhirlwindTourOfPython/\n",
    "1. The Python Tutorial, https://docs.python.org/3/tutorial/index.html\n",
    "1. Foundations of Python Programming, https://runestone.academy/ns/books/published/fopp/index.html\n",
    "1. J. Elkner, A. Downey and C. Meyers, How to Think Like a Computer Scientist: Learning with Python. [On-line](https://www.openbookproject.net/thinkcs/python/english3e/).\n",
    "1. L. Ramalho, Fluent Python: Clear, Concise, and Effective Programming, 2nd Edition, O'Reilly Media, 2022.\n",
    "\n",
    "\n",
    "\n",
    "\n",
    " \n",
    " Για επιστροφή στην αρχική σελίδα πατήστε [εδώ](README.md)."
   ]
  },
  {
   "cell_type": "code",
   "execution_count": null,
   "id": "e3c9abe7-4bfb-47f2-b2bd-ce7d2d1c3b41",
   "metadata": {},
   "outputs": [],
   "source": []
  }
 ],
 "metadata": {
  "kernelspec": {
   "display_name": "Python 3 (ipykernel)",
   "language": "python",
   "name": "python3"
  },
  "language_info": {
   "codemirror_mode": {
    "name": "ipython",
    "version": 3
   },
   "file_extension": ".py",
   "mimetype": "text/x-python",
   "name": "python",
   "nbconvert_exporter": "python",
   "pygments_lexer": "ipython3",
   "version": "3.12.9"
  }
 },
 "nbformat": 4,
 "nbformat_minor": 5
}
